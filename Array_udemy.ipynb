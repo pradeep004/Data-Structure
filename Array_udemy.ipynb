{
  "nbformat": 4,
  "nbformat_minor": 0,
  "metadata": {
    "colab": {
      "name": "Array_udemy.ipynb",
      "provenance": [],
      "authorship_tag": "ABX9TyOVVFtDC/h4UzAwkQAqXb4T",
      "include_colab_link": true
    },
    "kernelspec": {
      "name": "python3",
      "display_name": "Python 3"
    },
    "language_info": {
      "name": "python"
    }
  },
  "cells": [
    {
      "cell_type": "markdown",
      "metadata": {
        "id": "view-in-github",
        "colab_type": "text"
      },
      "source": [
        "<a href=\"https://colab.research.google.com/github/pradeep004/Data-Structure/blob/main/Array_udemy.ipynb\" target=\"_parent\"><img src=\"https://colab.research.google.com/assets/colab-badge.svg\" alt=\"Open In Colab\"/></a>"
      ]
    },
    {
      "cell_type": "code",
      "metadata": {
        "colab": {
          "base_uri": "https://localhost:8080/"
        },
        "id": "wXvtGBhTmsLA",
        "outputId": "9c5558ca-85e9-4e1a-c66e-d8d2dd772882"
      },
      "source": [
        "#Data Structure - list(array)\n",
        "list1 = ['a','b','c','d']\n",
        "#4*4 16 bytes of storage\n",
        "print(list1[2])\n"
      ],
      "execution_count": null,
      "outputs": [
        {
          "output_type": "stream",
          "text": [
            "c\n"
          ],
          "name": "stdout"
        }
      ]
    },
    {
      "cell_type": "code",
      "metadata": {
        "colab": {
          "base_uri": "https://localhost:8080/"
        },
        "id": "JHPwtG-EnWUN",
        "outputId": "443466ab-94c5-4b89-a9ae-18d305cf95be"
      },
      "source": [
        "#methods of the lists\n",
        "\n",
        "#adding the item at the end\n",
        "list1.extend('e')   #O(1)\n",
        "print(list1)"
      ],
      "execution_count": null,
      "outputs": [
        {
          "output_type": "stream",
          "text": [
            "['a', 'b', 'c', 'd', 'e']\n"
          ],
          "name": "stdout"
        }
      ]
    },
    {
      "cell_type": "code",
      "metadata": {
        "colab": {
          "base_uri": "https://localhost:8080/"
        },
        "id": "ksuDB6Zinj5A",
        "outputId": "bc23b644-ade1-40a9-ae3b-8cfcbf170ce5"
      },
      "source": [
        "#removing item at the end\n",
        "list1.pop()     #O(1)\n",
        "print(list1)"
      ],
      "execution_count": null,
      "outputs": [
        {
          "output_type": "stream",
          "text": [
            "['a', 'b', 'c', 'd']\n"
          ],
          "name": "stdout"
        }
      ]
    },
    {
      "cell_type": "code",
      "metadata": {
        "colab": {
          "base_uri": "https://localhost:8080/"
        },
        "id": "_MNL-jOpnwVJ",
        "outputId": "33dd398c-04f1-48c8-da1e-f277dff6c5d6"
      },
      "source": [
        "#insertion of the item to 1st index\n",
        "list1.insert(0,'x')  #depending on the data it takes the time to execute so O(n)\n",
        "print(list1)"
      ],
      "execution_count": null,
      "outputs": [
        {
          "output_type": "stream",
          "text": [
            "['x', 'a', 'b', 'c', 'd']\n"
          ],
          "name": "stdout"
        }
      ]
    },
    {
      "cell_type": "code",
      "metadata": {
        "id": "CAdHl2pnofMC"
      },
      "source": [
        "#There are two types of array \n",
        "#1.Static \n",
        "#2.Dynamic\n"
      ],
      "execution_count": null,
      "outputs": []
    },
    {
      "cell_type": "code",
      "metadata": {
        "colab": {
          "base_uri": "https://localhost:8080/"
        },
        "id": "ytE0XHwIq_Z7",
        "outputId": "d0f3b50a-d6eb-40c0-e03e-08cd24633223"
      },
      "source": [
        "#to create list in python\n",
        "my_list = []\n",
        "my_list.append('a')\n",
        "print(my_list)"
      ],
      "execution_count": null,
      "outputs": [
        {
          "output_type": "stream",
          "text": [
            "['a']\n"
          ],
          "name": "stdout"
        }
      ]
    },
    {
      "cell_type": "code",
      "metadata": {
        "colab": {
          "base_uri": "https://localhost:8080/"
        },
        "id": "mTMzkr66sHTZ",
        "outputId": "252b115d-4f23-4593-a6d5-e02416bb5fe2"
      },
      "source": [
        "#program to reverse a string\n",
        "string = input()\n",
        "if len(string) < 2 :\n",
        "  print(\"enter the new strig\")\n",
        "else:\n",
        "  print(string[::-1])"
      ],
      "execution_count": null,
      "outputs": [
        {
          "output_type": "stream",
          "text": [
            "1234123\n",
            "3214321\n"
          ],
          "name": "stdout"
        }
      ]
    },
    {
      "cell_type": "code",
      "metadata": {
        "colab": {
          "base_uri": "https://localhost:8080/"
        },
        "id": "iQjqx1JivsGw",
        "outputId": "1dcd445f-be3e-4c86-8a87-4d21cc22aba6"
      },
      "source": [
        "#merging the two lists in sorted\n",
        "def mergelists(list1,list2):\n",
        "  for values in list1:\n",
        "    list2.append(values)\n",
        "  return sorted(list2)\n",
        "list1 = [1,21,34,12,43]\n",
        "list2 = [-2,11,23,0,-78]\n",
        "mergelists(list1,list2)"
      ],
      "execution_count": null,
      "outputs": [
        {
          "output_type": "execute_result",
          "data": {
            "text/plain": [
              "[1, 12, 21, 34, 43]"
            ]
          },
          "metadata": {
            "tags": []
          },
          "execution_count": 21
        }
      ]
    },
    {
      "cell_type": "code",
      "metadata": {
        "id": "IlkazLPGy4Iw"
      },
      "source": [
        ""
      ],
      "execution_count": null,
      "outputs": []
    }
  ]
}