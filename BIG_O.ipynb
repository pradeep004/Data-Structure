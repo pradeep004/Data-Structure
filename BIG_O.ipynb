{
  "nbformat": 4,
  "nbformat_minor": 0,
  "metadata": {
    "colab": {
      "name": "BIG O.ipynb",
      "provenance": [],
      "authorship_tag": "ABX9TyNFFHFT7lcfKvz7zqiQIvms",
      "include_colab_link": true
    },
    "kernelspec": {
      "name": "python3",
      "display_name": "Python 3"
    },
    "language_info": {
      "name": "python"
    }
  },
  "cells": [
    {
      "cell_type": "markdown",
      "metadata": {
        "id": "view-in-github",
        "colab_type": "text"
      },
      "source": [
        "<a href=\"https://colab.research.google.com/github/pradeep004/Data-Structure/blob/main/BIG_O.ipynb\" target=\"_parent\"><img src=\"https://colab.research.google.com/assets/colab-badge.svg\" alt=\"Open In Colab\"/></a>"
      ]
    },
    {
      "cell_type": "code",
      "metadata": {
        "colab": {
          "base_uri": "https://localhost:8080/"
        },
        "id": "DvcRUQzdVMO8",
        "outputId": "9c86bcd5-21cb-43dc-c73f-095a7dc2bf50"
      },
      "source": [
        "#Big O- Finding the value in list is linear time to find the value \n",
        "#O(n)- depends on the number of the inputs, it increase as the input increases\n",
        "def find_values(simple_list):\n",
        "  for value in simple_list:\n",
        "    if value == 'vedanth':\n",
        "      print(\"Found the value\")\n",
        "find_values(['pradeep', 'vedanth','manjunath','vedanth','googly','ashish'])"
      ],
      "execution_count": null,
      "outputs": [
        {
          "output_type": "stream",
          "text": [
            "Found the value\n",
            "Found the value\n"
          ],
          "name": "stdout"
        }
      ]
    },
    {
      "cell_type": "code",
      "metadata": {
        "id": "6Ofk0QpdZE8D",
        "colab": {
          "base_uri": "https://localhost:8080/"
        },
        "outputId": "30c39bba-8e8c-4074-bd52-d7a25eae4f1f"
      },
      "source": [
        "#O(1)- is scalabilty and constant time\n",
        "boxes = [1,2,3,4]\n",
        "for values in boxes[0:2]:\n",
        "  print(values)"
      ],
      "execution_count": null,
      "outputs": [
        {
          "output_type": "stream",
          "text": [
            "1\n",
            "2\n"
          ],
          "name": "stdout"
        }
      ]
    },
    {
      "cell_type": "code",
      "metadata": {
        "id": "S-_5PK-ehRBG"
      },
      "source": [
        "#Find the BIG O for the code \n",
        "def funchallange(x):\n",
        "  a = 10    #O(1)\n",
        "  a = 50 + 3  #O(1)\n",
        "  #Loop should be counted as the O(n) because of the looping\n",
        "  for i in range(x):  #O(n)\n",
        "    anotherfunction():  #O(n)\n",
        "    stranger = True   #O(n)\n",
        "    a = a + 1   #O(n)\n",
        "  return a  #O(1)\n",
        "funchallenge([1,2,4])\n",
        "\n",
        "#So, BIG O(3 + 4n )\n"
      ],
      "execution_count": null,
      "outputs": []
    },
    {
      "cell_type": "code",
      "metadata": {
        "id": "wM9Fw30Ekvp-"
      },
      "source": [
        "#Calculate the BIG O for the given problem\n",
        "def funchallege(items):\n",
        "  a = 5                 # O(1)\n",
        "  b = 10                #O(1)\n",
        "  c = 12                #O(1)\n",
        "  for elements in items:#O(n)\n",
        "    x = elements + 1    #O(n)\n",
        "    y = elements + 2    #O(n)\n",
        "    z = elements + 3    #O(n)\n",
        "  for item in items:    #O(n)\n",
        "    p = item + 2        #O(n)\n",
        "    q = item + 3        #O(n)\n",
        "  print(\"execute the values\") #O(1)\n",
        "funchallege([1,23,4,3])\n",
        "\n",
        "#So, the BIG O(4 + 7n)   -- O(n)"
      ],
      "execution_count": null,
      "outputs": []
    },
    {
      "cell_type": "markdown",
      "metadata": {
        "id": "Di7x1ho0m37J"
      },
      "source": [
        "##Rules of the BIG O\n",
        "###1).Worst Case\n",
        "###2).Remove COnstants\n",
        "###3).Differents terms for inputs\n",
        "###4).Drop non Dominents"
      ]
    },
    {
      "cell_type": "code",
      "metadata": {
        "id": "x0qXjb5lnKJE"
      },
      "source": [
        "#Need to check the worst case for the algo because it depends on the scalabilty of the problem\n",
        "#we need to remove the constant of the BIG O after the getting the results,so final answer should be more general\n",
        "#If the different input are used, we have to use the different variables for each \n",
        "#Drop the non dominent terms"
      ],
      "execution_count": null,
      "outputs": []
    },
    {
      "cell_type": "code",
      "metadata": {
        "colab": {
          "base_uri": "https://localhost:8080/"
        },
        "id": "kud0nztCsD7Z",
        "outputId": "2d2e238e-a9c7-4cdb-ab47-5a42cbb719b6"
      },
      "source": [
        "#BIG O for the nested loops\n",
        "#IF nested loops \n",
        "#Log all pairs of array\n",
        "boxes = [1,2,3,4,5] \n",
        "def logallpair(boxes):\n",
        "  for i in boxes:\n",
        "    for j in boxes:\n",
        "      print(i,j)\n",
        "logallpair(boxes)\n",
        "\n",
        "#So,BIG O(n * n) - O(n^2) ---Quadratic time\n",
        "\n",
        "#IF the different items are implemented using nested BIG O(a*b)"
      ],
      "execution_count": null,
      "outputs": [
        {
          "output_type": "stream",
          "text": [
            "1 1\n",
            "1 2\n",
            "1 3\n",
            "1 4\n",
            "1 5\n",
            "2 1\n",
            "2 2\n",
            "2 3\n",
            "2 4\n",
            "2 5\n",
            "3 1\n",
            "3 2\n",
            "3 3\n",
            "3 4\n",
            "3 5\n",
            "4 1\n",
            "4 2\n",
            "4 3\n",
            "4 4\n",
            "4 5\n",
            "5 1\n",
            "5 2\n",
            "5 3\n",
            "5 4\n",
            "5 5\n"
          ],
          "name": "stdout"
        }
      ]
    },
    {
      "cell_type": "code",
      "metadata": {
        "id": "LSNEOLtEHwyu"
      },
      "source": [
        ""
      ],
      "execution_count": null,
      "outputs": []
    },
    {
      "cell_type": "code",
      "metadata": {
        "colab": {
          "base_uri": "https://localhost:8080/"
        },
        "id": "NlElrXWVsqoZ",
        "outputId": "b2a662a0-d532-4cf8-8fb4-88b1697ec194"
      },
      "source": [
        "n = int(input())\n",
        "my = []\n",
        "try:\n",
        "  for values in range(0,n):\n",
        "    values = int(input())\n",
        "    my.append(values)\n",
        "  print(my)\n",
        "except ValueError:\n",
        "  print('Enter all elements') \n"
      ],
      "execution_count": null,
      "outputs": [
        {
          "output_type": "stream",
          "text": [
            "2\n",
            "1\n",
            "\n",
            "Enter all elements\n"
          ],
          "name": "stdout"
        }
      ]
    },
    {
      "cell_type": "code",
      "metadata": {
        "id": "0wWvsqZHErcw"
      },
      "source": [
        "222"
      ],
      "execution_count": null,
      "outputs": []
    }
  ]
}